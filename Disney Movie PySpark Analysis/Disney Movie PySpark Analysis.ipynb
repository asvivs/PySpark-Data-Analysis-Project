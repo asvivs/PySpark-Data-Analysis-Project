{
 "cells": [
  {
   "cell_type": "markdown",
   "id": "a59257d9",
   "metadata": {},
   "source": [
    "**Importing and Initializing**"
   ]
  },
  {
   "cell_type": "code",
   "execution_count": 1,
   "id": "43850e77",
   "metadata": {},
   "outputs": [],
   "source": [
    "import pyspark"
   ]
  },
  {
   "cell_type": "code",
   "execution_count": 107,
   "id": "70833252",
   "metadata": {},
   "outputs": [],
   "source": [
    "from pyspark.sql import SparkSession\n",
    "from pyspark.sql.functions import count, col, when, desc, max, asc, avg, round"
   ]
  },
  {
   "cell_type": "code",
   "execution_count": 3,
   "id": "8ac8793c",
   "metadata": {},
   "outputs": [],
   "source": [
    "spark = SparkSession.builder.appName(\"Disney Data Analysis\").getOrCreate()"
   ]
  },
  {
   "cell_type": "markdown",
   "id": "b099dabc",
   "metadata": {},
   "source": [
    "**Displaying the Schema**"
   ]
  },
  {
   "cell_type": "code",
   "execution_count": 184,
   "id": "20e4a06f",
   "metadata": {},
   "outputs": [
    {
     "name": "stdout",
     "output_type": "stream",
     "text": [
      "root\n",
      " |-- imdb_id: string (nullable = true)\n",
      " |-- title: string (nullable = true)\n",
      " |-- plot: string (nullable = true)\n",
      " |-- type: string (nullable = true)\n",
      " |-- rated: string (nullable = true)\n",
      " |-- year: string (nullable = true)\n",
      " |-- released_at: string (nullable = true)\n",
      " |-- added_at: string (nullable = true)\n",
      " |-- runtime: string (nullable = true)\n",
      " |-- genre: string (nullable = true)\n",
      " |-- director: string (nullable = true)\n",
      " |-- writer: string (nullable = true)\n",
      " |-- actors: string (nullable = true)\n",
      " |-- language: string (nullable = true)\n",
      " |-- country: string (nullable = true)\n",
      " |-- awards: string (nullable = true)\n",
      " |-- metascore: string (nullable = true)\n",
      " |-- imdb_rating: string (nullable = true)\n",
      " |-- imdb_votes: string (nullable = true)\n",
      "\n"
     ]
    }
   ],
   "source": [
    "df.printSchema()"
   ]
  },
  {
   "cell_type": "markdown",
   "id": "432b6b3d",
   "metadata": {},
   "source": [
    "**Reading the CSV File from the local system**"
   ]
  },
  {
   "cell_type": "code",
   "execution_count": 4,
   "id": "92a958e4",
   "metadata": {},
   "outputs": [],
   "source": [
    "df = spark.read.csv(\"disney_plus_shows.csv\", header = True, inferSchema = True)"
   ]
  },
  {
   "cell_type": "markdown",
   "id": "29b080cf",
   "metadata": {},
   "source": [
    "**Data Exploration**"
   ]
  },
  {
   "cell_type": "markdown",
   "id": "27cdc0d4",
   "metadata": {},
   "source": [
    "**Total number of Columns**"
   ]
  },
  {
   "cell_type": "code",
   "execution_count": 6,
   "id": "01ba4453",
   "metadata": {},
   "outputs": [
    {
     "data": {
      "text/plain": [
       "19"
      ]
     },
     "execution_count": 6,
     "metadata": {},
     "output_type": "execute_result"
    }
   ],
   "source": [
    "len(df.columns)"
   ]
  },
  {
   "cell_type": "markdown",
   "id": "9be00ca1",
   "metadata": {},
   "source": [
    "**Total number of Rows**"
   ]
  },
  {
   "cell_type": "code",
   "execution_count": 7,
   "id": "ef65733f",
   "metadata": {},
   "outputs": [
    {
     "data": {
      "text/plain": [
       "992"
      ]
     },
     "execution_count": 7,
     "metadata": {},
     "output_type": "execute_result"
    }
   ],
   "source": [
    "df.count()"
   ]
  },
  {
   "cell_type": "markdown",
   "id": "751458bd",
   "metadata": {},
   "source": [
    "**Checking count of missing values**"
   ]
  },
  {
   "cell_type": "code",
   "execution_count": 8,
   "id": "055660fd",
   "metadata": {},
   "outputs": [
    {
     "name": "stdout",
     "output_type": "stream",
     "text": [
      "+---------------------------------------------+-------------------------------------------+------------------------------------------+------------------------------------------+-------------------------------------------+------------------------------------------+-------------------------------------------------+----------------------------------------------+---------------------------------------------+-------------------------------------------+----------------------------------------------+--------------------------------------------+--------------------------------------------+----------------------------------------------+---------------------------------------------+--------------------------------------------+-----------------------------------------------+-------------------------------------------------+------------------------------------------------+\n",
      "|count(CASE WHEN (imdb_id IS NULL) THEN 1 END)|count(CASE WHEN (title IS NULL) THEN 1 END)|count(CASE WHEN (plot IS NULL) THEN 1 END)|count(CASE WHEN (type IS NULL) THEN 1 END)|count(CASE WHEN (rated IS NULL) THEN 1 END)|count(CASE WHEN (year IS NULL) THEN 1 END)|count(CASE WHEN (released_at IS NULL) THEN 1 END)|count(CASE WHEN (added_at IS NULL) THEN 1 END)|count(CASE WHEN (runtime IS NULL) THEN 1 END)|count(CASE WHEN (genre IS NULL) THEN 1 END)|count(CASE WHEN (director IS NULL) THEN 1 END)|count(CASE WHEN (writer IS NULL) THEN 1 END)|count(CASE WHEN (actors IS NULL) THEN 1 END)|count(CASE WHEN (language IS NULL) THEN 1 END)|count(CASE WHEN (country IS NULL) THEN 1 END)|count(CASE WHEN (awards IS NULL) THEN 1 END)|count(CASE WHEN (metascore IS NULL) THEN 1 END)|count(CASE WHEN (imdb_rating IS NULL) THEN 1 END)|count(CASE WHEN (imdb_votes IS NULL) THEN 1 END)|\n",
      "+---------------------------------------------+-------------------------------------------+------------------------------------------+------------------------------------------+-------------------------------------------+------------------------------------------+-------------------------------------------------+----------------------------------------------+---------------------------------------------+-------------------------------------------+----------------------------------------------+--------------------------------------------+--------------------------------------------+----------------------------------------------+---------------------------------------------+--------------------------------------------+-----------------------------------------------+-------------------------------------------------+------------------------------------------------+\n",
      "|                                           98|                                         98|                                        98|                                        98|                                         98|                                        98|                                               98|                                             0|                                           98|                                         98|                                            98|                                          98|                                          98|                                            98|                                           98|                                          98|                                             98|                                               98|                                              98|\n",
      "+---------------------------------------------+-------------------------------------------+------------------------------------------+------------------------------------------+-------------------------------------------+------------------------------------------+-------------------------------------------------+----------------------------------------------+---------------------------------------------+-------------------------------------------+----------------------------------------------+--------------------------------------------+--------------------------------------------+----------------------------------------------+---------------------------------------------+--------------------------------------------+-----------------------------------------------+-------------------------------------------------+------------------------------------------------+\n",
      "\n"
     ]
    }
   ],
   "source": [
    "df.select([count(when(col(c).isNull(), 1)) for c in df.columns]).show()"
   ]
  },
  {
   "cell_type": "code",
   "execution_count": 9,
   "id": "72b23986",
   "metadata": {
    "scrolled": true
   },
   "outputs": [
    {
     "name": "stdout",
     "output_type": "stream",
     "text": [
      "+-------+---------+---------------+--------------------+-----------------+--------------------+--------------------+------------------+------------------+------------------+--------------+--------+--------------------+--------------------+--------------------+--------------------+--------------------+--------------------+--------------------+--------------------+\n",
      "|summary|  imdb_id|          title|                plot|             type|               rated|                year|       released_at|          added_at|           runtime|         genre|director|              writer|              actors|            language|             country|              awards|           metascore|         imdb_rating|          imdb_votes|\n",
      "+-------+---------+---------------+--------------------+-----------------+--------------------+--------------------+------------------+------------------+------------------+--------------+--------+--------------------+--------------------+--------------------+--------------------+--------------------+--------------------+--------------------+--------------------+\n",
      "|  count|      894|            894|                 894|              894|                 894|                 894|               894|               992|               894|           894|     894|                 894|                 894|                 894|                 894|                 894|                 894|                 894|                 894|\n",
      "|   mean|     null|           null|                null|             null|                null|  1994.4413892908829|1994.5714285714287|           1985.25|            1983.8|        1998.0|    null|                null|                null|                null|                null|                null|   61.82462686567164|  7.2331346841477995|  320.27142857142854|\n",
      "| stddev|     null|           null|                null|             null|                null|   23.98889768163841|29.311888598089553|31.972644557496334|29.710267585466156|          null|    null|                null|                null|                null|                null|                null|  16.101126750379454|  6.0761829000272165|   293.7104517629393|\n",
      "|    min|tt0019422|'Twas the Night|\"\"\"Doc McStuffins...| Davy and Georgie| Mater attempts t...| King of all Drif...|        clash ...\"|       01 May 2007|               1 h|   09 Jul 2003|  21 min|\"A.A. Milne (book...| Adi Granov (base...|            Bob Roth| Bill Peet (addit...| Danny Bilson (sc...| Alan Young (stor...| Alan Dinehart (s...|  Fred Lucky (story)|\n",
      "|    max|tt9822474|       Zootopia|Zoologist Jack Ra...|           series|              series|              series|             movie|             movie|              TV-G|Short, Fantasy|Zhong Yu|Winston Hibler (s...|Émile Genest, Joh...|Vincent Price, Ba...|USA, UK, Australi...|Zendaya, Chanelle...|Won 1 Oscar. Anot...|                 USA|Won 2 Oscars. Ano...|\n",
      "+-------+---------+---------------+--------------------+-----------------+--------------------+--------------------+------------------+------------------+------------------+--------------+--------+--------------------+--------------------+--------------------+--------------------+--------------------+--------------------+--------------------+--------------------+\n",
      "\n"
     ]
    }
   ],
   "source": [
    "df.describe().show()"
   ]
  },
  {
   "cell_type": "markdown",
   "id": "bf089dbb",
   "metadata": {},
   "source": [
    "**Column Names**"
   ]
  },
  {
   "cell_type": "code",
   "execution_count": 10,
   "id": "897e7218",
   "metadata": {
    "scrolled": true
   },
   "outputs": [
    {
     "data": {
      "text/plain": [
       "['imdb_id',\n",
       " 'title',\n",
       " 'plot',\n",
       " 'type',\n",
       " 'rated',\n",
       " 'year',\n",
       " 'released_at',\n",
       " 'added_at',\n",
       " 'runtime',\n",
       " 'genre',\n",
       " 'director',\n",
       " 'writer',\n",
       " 'actors',\n",
       " 'language',\n",
       " 'country',\n",
       " 'awards',\n",
       " 'metascore',\n",
       " 'imdb_rating',\n",
       " 'imdb_votes']"
      ]
     },
     "execution_count": 10,
     "metadata": {},
     "output_type": "execute_result"
    }
   ],
   "source": [
    "df.columns"
   ]
  },
  {
   "cell_type": "markdown",
   "id": "723b46e6",
   "metadata": {},
   "source": [
    "**Movie Rating Analysis**\n",
    "\n",
    "**Selecting required columns and creating a new dataframe for analysis**"
   ]
  },
  {
   "cell_type": "code",
   "execution_count": 11,
   "id": "2ddac5a9",
   "metadata": {},
   "outputs": [
    {
     "name": "stdout",
     "output_type": "stream",
     "text": [
      "+-----------+--------------------+-----+----------+\n",
      "|imdb_rating|               title|rated|imdb_votes|\n",
      "+-----------+--------------------+-----+----------+\n",
      "|        7.3|10 Things I Hate ...|PG-13|   283,945|\n",
      "|        6.2|101 Dalmatian Street|  N/A|       124|\n",
      "|        5.7|      101 Dalmatians|    G|    97,785|\n",
      "|        5.8|101 Dalmatians 2:...|    G|     7,434|\n",
      "|        4.9|      102 Dalmatians|    G|    33,444|\n",
      "|        6.3|12 Dates of Chris...|   PG|     4,933|\n",
      "|        7.2|20,000 Leagues Un...|    G|    27,761|\n",
      "|         77|        A Bug's Life|movie|       7.2|\n",
      "|        7.6|A Celebration of ...|  N/A|        35|\n",
      "|        6.8|       A Goofy Movie|    G|    43,655|\n",
      "+-----------+--------------------+-----+----------+\n",
      "only showing top 10 rows\n",
      "\n"
     ]
    }
   ],
   "source": [
    "df1 = df.select(col(\"imdb_rating\"), col(\"title\"), col(\"rated\"), col(\"imdb_votes\"))\n",
    "df1.show(10)"
   ]
  },
  {
   "cell_type": "code",
   "execution_count": 22,
   "id": "f9aca071",
   "metadata": {},
   "outputs": [
    {
     "name": "stdout",
     "output_type": "stream",
     "text": [
      "+------------------------------------------+-----------+\n",
      "|title                                     |imdb_rating|\n",
      "+------------------------------------------+-----------+\n",
      "|10 Things I Hate About You                |7.3        |\n",
      "|101 Dalmatian Street                      |6.2        |\n",
      "|101 Dalmatians                            |5.7        |\n",
      "|101 Dalmatians 2: Patch's London Adventure|5.8        |\n",
      "|102 Dalmatians                            |4.9        |\n",
      "|12 Dates of Christmas                     |6.3        |\n",
      "|20,000 Leagues Under the Sea              |7.2        |\n",
      "|A Bug's Life                              |77         |\n",
      "|A Celebration of the Music from Coco      |7.6        |\n",
      "|A Goofy Movie                             |6.8        |\n",
      "+------------------------------------------+-----------+\n",
      "only showing top 10 rows\n",
      "\n"
     ]
    }
   ],
   "source": [
    "df.select(df[\"title\"], df[\"imdb_rating\"]).show(10, truncate = False)"
   ]
  },
  {
   "cell_type": "markdown",
   "id": "d430d266",
   "metadata": {},
   "source": [
    "**Displaying the first three columns**"
   ]
  },
  {
   "cell_type": "code",
   "execution_count": 24,
   "id": "a3d35bf3",
   "metadata": {},
   "outputs": [
    {
     "name": "stdout",
     "output_type": "stream",
     "text": [
      "+----------+--------------------+--------------------+\n",
      "|   imdb_id|               title|                plot|\n",
      "+----------+--------------------+--------------------+\n",
      "| tt0147800|10 Things I Hate ...|A pretty, popular...|\n",
      "| tt7019028|101 Dalmatian Street|This series follo...|\n",
      "| tt0115433|      101 Dalmatians|An evil high-fash...|\n",
      "| tt0324941|101 Dalmatians 2:...|Being one of 101 ...|\n",
      "| tt0211181|      102 Dalmatians|Cruella DeVil get...|\n",
      "| tt1846442|12 Dates of Chris...|A story that foll...|\n",
      "| tt0046672|20,000 Leagues Un...|A ship sent to in...|\n",
      "| tt0120623|        A Bug's Life|\"A misfit ant, lo...|\n",
      "|tt12076020|A Celebration of ...|                 N/A|\n",
      "| tt0113198|       A Goofy Movie|When Max makes a ...|\n",
      "+----------+--------------------+--------------------+\n",
      "only showing top 10 rows\n",
      "\n"
     ]
    }
   ],
   "source": [
    "df.select(df.columns[:3]).show(10)"
   ]
  },
  {
   "cell_type": "markdown",
   "id": "d39d7615",
   "metadata": {},
   "source": [
    "**Displaying data which has imdb rating 9 and 8.**"
   ]
  },
  {
   "cell_type": "code",
   "execution_count": 25,
   "id": "34083386",
   "metadata": {},
   "outputs": [
    {
     "name": "stdout",
     "output_type": "stream",
     "text": [
      "+-----------+--------------------+-----+----------+\n",
      "|imdb_rating|               title|rated|imdb_votes|\n",
      "+-----------+--------------------+-----+----------+\n",
      "|        9.7|               Bluey| TV-Y|       949|\n",
      "|        9.1|The Imagineering ...|  N/A|     1,194|\n",
      "+-----------+--------------------+-----+----------+\n",
      "\n"
     ]
    }
   ],
   "source": [
    "df1.filter(col(\"imdb_rating\") == 9).show(10)"
   ]
  },
  {
   "cell_type": "code",
   "execution_count": 29,
   "id": "8519a233",
   "metadata": {},
   "outputs": [
    {
     "name": "stdout",
     "output_type": "stream",
     "text": [
      "+-----------+--------------------+-----+----------+\n",
      "|imdb_rating|               title|rated|imdb_votes|\n",
      "+-----------+--------------------+-----+----------+\n",
      "|        8.0|             Aladdin|    G|   356,283|\n",
      "|        8.0|Beauty and the Beast|    G|   404,632|\n",
      "|        8.3|    Before the Flood|   PG|    25,171|\n",
      "|        8.1|     Boy Meets World| TV-G|    37,279|\n",
      "|        8.3|         Brain Games| TV-G|     2,812|\n",
      "|        8.4|                Coco|   PG|   333,411|\n",
      "|        8.1|         Day & Night|    G|    16,108|\n",
      "|        8.9|       Gravity Falls|TV-Y7|    63,771|\n",
      "|        8.2|Phineas and Ferb:...| TV-G|       492|\n",
      "|        8.0|Star vs. the Forc...|TV-Y7|     9,623|\n",
      "+-----------+--------------------+-----+----------+\n",
      "only showing top 10 rows\n",
      "\n"
     ]
    }
   ],
   "source": [
    "df1.filter(\"imdb_rating == 8\").show(10)"
   ]
  },
  {
   "cell_type": "markdown",
   "id": "e9559f0e",
   "metadata": {},
   "source": [
    "**Sorting**"
   ]
  },
  {
   "cell_type": "code",
   "execution_count": 32,
   "id": "93fc686b",
   "metadata": {},
   "outputs": [
    {
     "name": "stdout",
     "output_type": "stream",
     "text": [
      "+-----------+--------------------+---------+--------------------+\n",
      "|imdb_rating|               title|    rated|          imdb_votes|\n",
      "+-----------+--------------------+---------+--------------------+\n",
      "|        8.0|            Zootopia|       PG|             410,437|\n",
      "|        N/A|           Zenon: Z3|     TV-G|                 N/A|\n",
      "|        5.9|   Zenon: The Zequel|     TV-G|               3,318|\n",
      "|        6.4|Zenon: Girl of th...|     TV-G|               6,378|\n",
      "|Canada, USA|              Zapped|     TV-G|5 wins & 1 nomina...|\n",
      "|        6.3|       Z-O-M-B-I-E-S|     TV-G|               2,993|\n",
      "|        7.1| Your Friend the Rat|        G|               4,944|\n",
      "|        6.1|           You Wish!|     TV-G|               1,608|\n",
      "|        4.7|       You Lucky Dog|     TV-G|                 526|\n",
      "|        6.9|    Yellowstone Cubs|Not Rated|                 177|\n",
      "+-----------+--------------------+---------+--------------------+\n",
      "only showing top 10 rows\n",
      "\n"
     ]
    }
   ],
   "source": [
    "df1.sort(col(\"title\").desc()).show(10)"
   ]
  },
  {
   "cell_type": "markdown",
   "id": "0fae0dcc",
   "metadata": {},
   "source": [
    "**Top 10 highest-rated Disney movies based on average ratings**"
   ]
  },
  {
   "cell_type": "code",
   "execution_count": 39,
   "id": "ac2301cc",
   "metadata": {},
   "outputs": [
    {
     "name": "stdout",
     "output_type": "stream",
     "text": [
      "+-------------------------------------+--------------+\n",
      "|title                                |avg_imdb_votes|\n",
      "+-------------------------------------+--------------+\n",
      "|Mr. Boogedy                          |1173.0        |\n",
      "|The Incredible Dr. Pol               |999.0         |\n",
      "|Elena of Avalor                      |998.0         |\n",
      "|Boat Builders                        |993.0         |\n",
      "|Elmer Elephant                       |991.0         |\n",
      "|Lamp Life                            |980.0         |\n",
      "|Roving Mars                          |968.0         |\n",
      "|Bluey                                |949.0         |\n",
      "|Spider-Man                           |943.0         |\n",
      "|Marvel Studios: Assembling a Universe|936.0         |\n",
      "+-------------------------------------+--------------+\n",
      "\n"
     ]
    }
   ],
   "source": [
    "avg_rating = df.groupBy(col(\"title\")).agg({\"imdb_votes\" : \"avg\"}).withColumnRenamed(\"avg(imdb_votes)\", \"avg_imdb_votes\")\n",
    "avg_rating.orderBy(desc(\"avg_imdb_votes\")).limit(10).show(truncate = False)\n"
   ]
  },
  {
   "cell_type": "markdown",
   "id": "4ede74b4",
   "metadata": {},
   "source": [
    "**Disney movie which has the highest average rating**"
   ]
  },
  {
   "cell_type": "code",
   "execution_count": 49,
   "id": "28ef5758",
   "metadata": {},
   "outputs": [
    {
     "name": "stdout",
     "output_type": "stream",
     "text": [
      "+-----------+\n",
      "|      title|\n",
      "+-----------+\n",
      "|Mr. Boogedy|\n",
      "+-----------+\n",
      "\n"
     ]
    }
   ],
   "source": [
    "avg_rating.select(\"title\").orderBy(desc(\"avg_imdb_votes\")).limit(1).show()"
   ]
  },
  {
   "cell_type": "markdown",
   "id": "6270ad2d",
   "metadata": {},
   "source": [
    "**Top 10 lowest-rated Disney movies based on average ratings (not including null values)**"
   ]
  },
  {
   "cell_type": "code",
   "execution_count": 56,
   "id": "67f886d5",
   "metadata": {},
   "outputs": [
    {
     "name": "stdout",
     "output_type": "stream",
     "text": [
      "+-----------------------------------------+--------------+\n",
      "|title                                    |avg_imdb_votes|\n",
      "+-----------------------------------------+--------------+\n",
      "|Jonas Brothers: The 3D Concert Experience|1.5           |\n",
      "|Out There with Jack Randall              |5.0           |\n",
      "|Insider                                  |5.0           |\n",
      "|The Sandlot: Heading Home                |5.0           |\n",
      "|Rocky Mountain Animal Rescue             |5.0           |\n",
      "|Camp Rock 2: The Final Jam               |5.2           |\n",
      "|Secrets of the King Cobra                |6.0           |\n",
      "|Muppet Moments                           |6.0           |\n",
      "|Penguins: Life on the Edge               |6.0           |\n",
      "|The Suite Life on Deck                   |6.3           |\n",
      "+-----------------------------------------+--------------+\n",
      "\n"
     ]
    }
   ],
   "source": [
    "avg_rating.dropna().orderBy(asc(\"avg_imdb_votes\")).limit(10).show(truncate = False)"
   ]
  },
  {
   "cell_type": "markdown",
   "id": "d9259f8d",
   "metadata": {},
   "source": [
    "**Disney movie which has the lowest average rating**"
   ]
  },
  {
   "cell_type": "code",
   "execution_count": 58,
   "id": "28c09b2b",
   "metadata": {},
   "outputs": [
    {
     "name": "stdout",
     "output_type": "stream",
     "text": [
      "+-----------------------------------------+\n",
      "|title                                    |\n",
      "+-----------------------------------------+\n",
      "|Jonas Brothers: The 3D Concert Experience|\n",
      "+-----------------------------------------+\n",
      "\n"
     ]
    }
   ],
   "source": [
    "avg_rating.dropna().select(\"title\").orderBy(asc(\"avg_imdb_votes\")).limit(1).show(truncate = False)"
   ]
  },
  {
   "cell_type": "markdown",
   "id": "c7b99bae",
   "metadata": {},
   "source": [
    "**Calculate average ratings for each genre of Disney movies**"
   ]
  },
  {
   "cell_type": "code",
   "execution_count": 188,
   "id": "0b10bc04",
   "metadata": {},
   "outputs": [
    {
     "name": "stdout",
     "output_type": "stream",
     "text": [
      "+--------------------+---------------+\n",
      "|               genre|avg_imdb_rating|\n",
      "+--------------------+---------------+\n",
      "|Animation, Advent...|            6.5|\n",
      "|Animation, Comedy...|            6.7|\n",
      "|Adventure, Biogra...|            8.1|\n",
      "|             100 min|           84.0|\n",
      "|Adventure, Comedy...|            4.7|\n",
      "|Family, Romance, ...|            5.4|\n",
      "|Animation, Action...|            6.4|\n",
      "|Animation, Advent...|            6.1|\n",
      "|Action, Adventure...|            7.0|\n",
      "|Animation, Comedy...|            6.5|\n",
      "|Documentary, Hist...|            7.6|\n",
      "|Adventure, Family...|            8.5|\n",
      "|Documentary, Biog...|            7.9|\n",
      "|Documentary, Adve...|            4.7|\n",
      "|  Documentary, Music|            2.3|\n",
      "|Animation, Advent...|            8.4|\n",
      "|Family, Comedy, A...|            7.3|\n",
      "|Adventure, Comedy...|            5.3|\n",
      "|Adventure, Family...|            5.9|\n",
      "|Animation, Short,...|            7.6|\n",
      "+--------------------+---------------+\n",
      "only showing top 20 rows\n",
      "\n"
     ]
    }
   ],
   "source": [
    "genre = df.select(col(\"imdb_rating\"), col(\"title\"), col(\"rated\"), col(\"imdb_votes\"), col(\"genre\"))\n",
    "genre_avg = genre.groupBy(\"genre\").agg(round(avg(\"imdb_rating\"), 1)).withColumnRenamed(\"round(avg(imdb_rating), 1)\", \"avg_imdb_rating\")\n",
    "genre_avg.dropna().show()"
   ]
  },
  {
   "cell_type": "markdown",
   "id": "4274fc63",
   "metadata": {},
   "source": [
    "**Story plot which includes ghost keyword**"
   ]
  },
  {
   "cell_type": "code",
   "execution_count": 70,
   "id": "47e40276",
   "metadata": {},
   "outputs": [
    {
     "name": "stdout",
     "output_type": "stream",
     "text": [
      "+---------+---------------+----------------------------------------------------------------------------------------------------------------------------------------------------------------+\n",
      "|imdb_id  |title          |plot                                                                                                                                                            |\n",
      "+---------+---------------+----------------------------------------------------------------------------------------------------------------------------------------------------------------+\n",
      "|tt0029161|Lonesome Ghosts|Four bored ghosts in a haunted house who've scared everyone away call up Ghost Hunters Mickey, Donald, and Goofy in hopes to have a little fun scaring them off.|\n",
      "+---------+---------------+----------------------------------------------------------------------------------------------------------------------------------------------------------------+\n",
      "\n"
     ]
    }
   ],
   "source": [
    "df.select(df.columns[:3]).filter(col(\"plot\").like(\"%ghost%\")).show(10, truncate = False)"
   ]
  },
  {
   "cell_type": "markdown",
   "id": "d0ff6a8c",
   "metadata": {},
   "source": [
    "**Count the no of movie plot includes evil keyword**"
   ]
  },
  {
   "cell_type": "code",
   "execution_count": 189,
   "id": "a6918f60",
   "metadata": {},
   "outputs": [
    {
     "data": {
      "text/plain": [
       "25"
      ]
     },
     "execution_count": 189,
     "metadata": {},
     "output_type": "execute_result"
    }
   ],
   "source": [
    "evil_plot = df.filter(col(\"plot\").like(\"%evil%\"))\n",
    "evil_plot.count()"
   ]
  },
  {
   "cell_type": "markdown",
   "id": "7e82232c",
   "metadata": {},
   "source": [
    "**Grouping**"
   ]
  },
  {
   "cell_type": "code",
   "execution_count": 86,
   "id": "e5474c6c",
   "metadata": {
    "scrolled": true
   },
   "outputs": [
    {
     "name": "stdout",
     "output_type": "stream",
     "text": [
      "+-----------------------------------------------------------------------------------------------------------+-----+\n",
      "|type                                                                                                       |count|\n",
      "+-----------------------------------------------------------------------------------------------------------+-----+\n",
      "|\"\" a rubber-like super-bouncy substance.\"                                                                  |1    |\n",
      "| resident DJ for \"\"The Ellen Show\"\" ...\"                                                                   |1    |\n",
      "|null                                                                                                       |98   |\n",
      "| Davy and Georgie                                                                                          |1    |\n",
      "| an invisible creature befriends a 12 year old boy. Of course                                              |1    |\n",
      "| as well as documentary footage on the lives of the three brothers.\"                                       |1    |\n",
      "| Queen Aggravain has ruled that none may marry until her son                                               |1    |\n",
      "|\"\" James Cameron reopens the file on the disaster.\"                                                        |1    |\n",
      "|episode                                                                                                    |22   |\n",
      "| recruits a group of bugs that turn out to be an inept circus troupe.\"                                     |1    |\n",
      "| Donald isn't having a lot of fun or success with his game.\"                                               |1    |\n",
      "| creating an atmosphere of competition or feud.\"                                                           |1    |\n",
      "|movie                                                                                                      |657  |\n",
      "|series                                                                                                     |188  |\n",
      "| Donald decides ...\"                                                                                       |1    |\n",
      "|\"\" this animated adventure/comedy series unfolds as Rapunzel acquaints herself with her parents            |1    |\n",
      "| Jordy                                                                                                     |1    |\n",
      "| but the son of an old rival threatens to make the latter \"\"real\"\" and the real world a place of monsters.\"|1    |\n",
      "| of course                                                                                                 |1    |\n",
      "| a road trip alongside old and new friends reveals how big the world can be for a toy.\"                    |1    |\n",
      "+-----------------------------------------------------------------------------------------------------------+-----+\n",
      "only showing top 20 rows\n",
      "\n"
     ]
    }
   ],
   "source": [
    "df.groupBy(\"type\").count().show(truncate = False)"
   ]
  },
  {
   "cell_type": "markdown",
   "id": "d043b03c",
   "metadata": {},
   "source": [
    "**Find the average IMDb rating for each director and sort the result in ascending order.**"
   ]
  },
  {
   "cell_type": "code",
   "execution_count": 190,
   "id": "5be54079",
   "metadata": {
    "scrolled": true
   },
   "outputs": [
    {
     "name": "stdout",
     "output_type": "stream",
     "text": [
      "+-------------------------------------------------------------+--------------------+\n",
      "|director                                                     |avgerage imdb rating|\n",
      "+-------------------------------------------------------------+--------------------+\n",
      "|Aaron Blaise, Robert Walker                                  |6.8                 |\n",
      "|Adam Shankman                                                |6.0                 |\n",
      "|Alan Barillaro                                               |8.4                 |\n",
      "|Alan Shapiro                                                 |6.5                 |\n",
      "|Alan Taylor                                                  |6.9                 |\n",
      "|Alastair Fothergill, Jeff Wilson                             |6.8                 |\n",
      "|Alastair Fothergill, Keith Scholey, Adam Chapman(co-director)|7.4                 |\n",
      "|Alastair Fothergill, Mark Linfield                           |7.2                 |\n",
      "|Alex Zamm                                                    |3.4                 |\n",
      "|Alfred Gimeno                                                |4.6                 |\n",
      "|Alfred Gimeno, Eric Radomski                                 |5.1                 |\n",
      "|Allison Liddi-Brown                                          |5.6                 |\n",
      "|Andrew Adamson                                               |6.7                 |\n",
      "|Andrew Davis                                                 |7.0                 |\n",
      "|Andrew Knight                                                |6.1                 |\n",
      "|Andrew Stanton                                               |7.5                 |\n",
      "|Andrew Stanton, Angus MacLane(co-director)                   |7.3                 |\n",
      "|Andrew Stanton, Lee Unkrich(co-director)                     |8.1                 |\n",
      "|Andy Byatt, Alastair Fothergill                              |7.4                 |\n",
      "|Andy Fickman                                                 |6.1                 |\n",
      "+-------------------------------------------------------------+--------------------+\n",
      "only showing top 20 rows\n",
      "\n"
     ]
    }
   ],
   "source": [
    "avg_rating_runtime = df.groupBy(\"director\").agg(round(avg(\"imdb_rating\"), 1).alias(\"avgerage imdb rating\"))\\\n",
    "                     .orderBy(asc(\"director\"))\n",
    "avg_rating_runtime.dropna().show(truncate = False)                   "
   ]
  },
  {
   "cell_type": "markdown",
   "id": "6446a17f",
   "metadata": {},
   "source": [
    "**Determine the number of movies released each year and sort them in descending order.**"
   ]
  },
  {
   "cell_type": "code",
   "execution_count": 113,
   "id": "0540c742",
   "metadata": {},
   "outputs": [
    {
     "name": "stdout",
     "output_type": "stream",
     "text": [
      "+----+------------+\n",
      "|year|No of Movies|\n",
      "+----+------------+\n",
      "|2020|          12|\n",
      "|2019|          28|\n",
      "|2018|          18|\n",
      "|2017|          21|\n",
      "|2016|          18|\n",
      "|2015|          12|\n",
      "|2014|          16|\n",
      "|2013|          10|\n",
      "|2012|          16|\n",
      "|2011|          22|\n",
      "|2010|          14|\n",
      "|2009|          18|\n",
      "|2008|          18|\n",
      "|2007|          14|\n",
      "|2006|          20|\n",
      "|2005|          21|\n",
      "|2004|          22|\n",
      "|2003|          26|\n",
      "|2002|          22|\n",
      "|2001|          15|\n",
      "+----+------------+\n",
      "only showing top 20 rows\n",
      "\n"
     ]
    }
   ],
   "source": [
    "mv_released_each_yr = df.filter(col(\"type\") == \"movie\")\\\n",
    "                      .groupBy(\"year\")\\\n",
    "                      .agg(count(\"imdb_id\").alias(\"No of Movies\"))\\\n",
    "                      .orderBy(desc(\"year\"))\n",
    "mv_released_each_yr.show()"
   ]
  },
  {
   "cell_type": "markdown",
   "id": "e2fb8908",
   "metadata": {},
   "source": [
    "**Identify the top 3 directors with the most IMDb votes for their movies.**"
   ]
  },
  {
   "cell_type": "code",
   "execution_count": 147,
   "id": "50bdd45b",
   "metadata": {
    "scrolled": true
   },
   "outputs": [
    {
     "name": "stdout",
     "output_type": "stream",
     "text": [
      "+----------+----------------+-----+--------------+\n",
      "|imdb_votes|director        |type |title         |\n",
      "+----------+----------------+-----+--------------+\n",
      "|993       |Ben Sharpsteen  |movie|Boat Builders |\n",
      "|991       |Wilfred Jackson |movie|Elmer Elephant|\n",
      "|980       |Valerie LaPointe|movie|Lamp Life     |\n",
      "+----------+----------------+-----+--------------+\n",
      "\n"
     ]
    }
   ],
   "source": [
    "changed_datatype = df.select(col(\"imdb_votes\").cast(\"int\"), col(\"director\"), col(\"type\"), col(\"title\"))\n",
    "top_five_directors = changed_datatype.filter(col(\"type\") == \"movie\")\\\n",
    "                     .orderBy(desc(\"imdb_votes\")).limit(3)\n",
    "top_five_directors.show(truncate = False)"
   ]
  },
  {
   "cell_type": "markdown",
   "id": "9d8f3fa8",
   "metadata": {},
   "source": [
    "**Find the average IMDb rating for movies that won awards and those that didn't.**"
   ]
  },
  {
   "cell_type": "code",
   "execution_count": 168,
   "id": "4890a805",
   "metadata": {},
   "outputs": [
    {
     "name": "stdout",
     "output_type": "stream",
     "text": [
      "+---------+-------------------+\n",
      "|has_award|average imdb rating|\n",
      "+---------+-------------------+\n",
      "|    award|                7.6|\n",
      "| no award|                6.7|\n",
      "+---------+-------------------+\n",
      "\n"
     ]
    }
   ],
   "source": [
    "movie_with_awards = df.withColumn(\"has_award\",when(col(\"awards\") == \"N/A\", \"no award\").otherwise(\"award\"))\n",
    "avg_rating_by_award = movie_with_awards.groupBy(\"has_award\")\\\n",
    "                     .agg(round(avg(\"imdb_rating\"), 1).alias(\"average imdb rating\"))\n",
    "avg_rating_by_award.show()"
   ]
  },
  {
   "cell_type": "markdown",
   "id": "b03ea166",
   "metadata": {},
   "source": [
    "**Determine the most common language for Disney movies.**"
   ]
  },
  {
   "cell_type": "code",
   "execution_count": 175,
   "id": "ca8d86a4",
   "metadata": {},
   "outputs": [
    {
     "name": "stdout",
     "output_type": "stream",
     "text": [
      "+--------------------+\n",
      "|most common language|\n",
      "+--------------------+\n",
      "|             English|\n",
      "+--------------------+\n",
      "\n"
     ]
    }
   ],
   "source": [
    "most_common_lang = df.groupBy(\"language\")\\\n",
    "                   .agg(count(\"imdb_id\").alias(\"no of movies\"))\\\n",
    "                   .orderBy(desc(\"no of movies\")).limit(1)\n",
    "most_common_lang.select(df.language.alias(\"most common language\")).show()"
   ]
  },
  {
   "cell_type": "markdown",
   "id": "6ecdfbd5",
   "metadata": {},
   "source": [
    "**Calculate the average metascore and IMDb rating for movies in each genre.**"
   ]
  },
  {
   "cell_type": "code",
   "execution_count": 183,
   "id": "87a3d99d",
   "metadata": {},
   "outputs": [
    {
     "name": "stdout",
     "output_type": "stream",
     "text": [
      "+-----------------------------------------------------+-----------------+-------------------+\n",
      "|genre                                                |average metascore|average imdb rating|\n",
      "+-----------------------------------------------------+-----------------+-------------------+\n",
      "|Animation, Adventure, Family, Thriller               |56.0             |6.5                |\n",
      "|Adventure, Biography, Drama, Family, History         |69.0             |8.1                |\n",
      "|Adventure, Comedy, Family, Fantasy, Romance          |34.0             |4.7                |\n",
      "|Animation, Action, Adventure, Family, Fantasy, Sci-Fi|43.5             |6.4                |\n",
      "|Action, Adventure, Fantasy                           |51.8             |7.0                |\n",
      "|Animation, Comedy, Family, Fantasy, Musical          |92.0             |6.5                |\n",
      "|Documentary, Biography                               |87.0             |7.9                |\n",
      "|Documentary, Adventure, Biography, Family            |63.0             |4.7                |\n",
      "|Documentary, Music                                   |59.0             |2.3                |\n",
      "|Animation, Adventure, Family, Fantasy, Music, Mystery|81.0             |8.4                |\n",
      "|Biography, Drama, Sport                              |59.4             |7.4                |\n",
      "|Comedy, Drama, Romance                               |65.0             |6.8                |\n",
      "|Comedy, Family, Romance                              |56.0             |6.1                |\n",
      "|Action, Adventure, Family, Mystery, Thriller         |48.0             |6.5                |\n",
      "|Animation, Adventure, Family, Fantasy, Musical, War  |71.0             |7.6                |\n",
      "|Animation, Adventure, Comedy, Crime, Family, Mystery |78.0             |8.0                |\n",
      "|Action, Adventure, Comedy, Crime, Family, Sci-Fi     |36.0             |4.1                |\n",
      "|Adventure, Comedy, Family, Music, Romance            |56.0             |5.5                |\n",
      "|Animation, Adventure, Comedy, Drama, Family, Fantasy |85.3             |7.6                |\n",
      "|Action, Adventure, Mystery, Thriller                 |39.0             |6.8                |\n",
      "+-----------------------------------------------------+-----------------+-------------------+\n",
      "only showing top 20 rows\n",
      "\n"
     ]
    }
   ],
   "source": [
    "avg_rating_by_genre = df.groupBy(\"genre\")\\\n",
    "                      .agg(round(avg(\"metascore\"), 1).alias(\"average metascore\"), round(avg(\"imdb_rating\"), 1).alias(\"average imdb rating\"))\n",
    "avg_rating_by_genre.dropna().show(truncate = False)"
   ]
  }
 ],
 "metadata": {
  "kernelspec": {
   "display_name": "Python 3 (ipykernel)",
   "language": "python",
   "name": "python3"
  },
  "language_info": {
   "codemirror_mode": {
    "name": "ipython",
    "version": 3
   },
   "file_extension": ".py",
   "mimetype": "text/x-python",
   "name": "python",
   "nbconvert_exporter": "python",
   "pygments_lexer": "ipython3",
   "version": "3.11.0"
  }
 },
 "nbformat": 4,
 "nbformat_minor": 5
}
